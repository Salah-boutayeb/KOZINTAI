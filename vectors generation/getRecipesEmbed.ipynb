{
 "cells": [
  {
   "cell_type": "code",
   "execution_count": 29,
   "metadata": {},
   "outputs": [],
   "source": [
    "import sys\n",
    "import cohere\n",
    "import os\n",
    "import numpy as np\n",
    "import math\n",
    "import pickle\n",
    "\n",
    "from pathlib import Path\n",
    "# import openai_secret_manager\n",
    "import openai\n",
    "import re\n",
    "import json\n",
    "from dotenv import load_dotenv\n",
    "\n",
    "result = os.path.dirname(os.path.realpath('__file__'))\n",
    "relative_path = \"../data/data.txt\"\n",
    "full_path = os.path.join(result, relative_path)\n",
    "\n",
    "load_dotenv()\n",
    "key = os.getenv('cohere_key')\n",
    "co = cohere.Client(key)\n",
    "openai.api_key =  os.getenv('openai_key')\n"
   ]
  },
  {
   "cell_type": "code",
   "execution_count": 30,
   "metadata": {},
   "outputs": [],
   "source": [
    "\n",
    "file = open(full_path, \"r\")\n",
    "\n",
    "texts = []\n",
    "for line in file:\n",
    "    texts.append(line.split(\":\")[1])\n",
    "\n",
    "myRecipesFromData = texts"
   ]
  },
  {
   "cell_type": "code",
   "execution_count": 31,
   "metadata": {},
   "outputs": [
    {
     "name": "stdout",
     "output_type": "stream",
     "text": [
      "89\n"
     ]
    }
   ],
   "source": [
    "response = co.embed(\n",
    "    texts=texts,\n",
    "    model='small',\n",
    ")\n",
    "embeddings=response.embeddings\n",
    "all_embeddings = np.array(embeddings)\n",
    "\n",
    "relative_path = \"../data/embeddings.npy\"\n",
    "full_path = os.path.join(result, relative_path)\n",
    "np.save(full_path, all_embeddings)\n"
   ]
  },
  {
   "cell_type": "code",
   "execution_count": null,
   "metadata": {},
   "outputs": [],
   "source": [
    "\"\"\" let's test here first \"\"\"\n",
    "\n",
    "\n",
    "response = co.embed(\n",
    "    texts=[\"ginger, Lentils, tomatoes, onions, parsley, cilantro, vermicelli noodles, ginger, saffron, black pepper.\"],\n",
    "    model='small',\n",
    ")\n",
    "embeddingForRecipeTest=response.embeddings\n",
    "\n",
    "cosine_similarity_list = []\n",
    "all_embeddings = np.load('embeddings.npy')\n",
    "for i in range(len(all_embeddings)):\n",
    "    # Calculate the dot product of the two arrays\n",
    "    dot_product = np.dot(embeddingForRecipeTest, all_embeddings[i])\n",
    "\n",
    "    # Calculate the norm of the two arrays\n",
    "    norm_embeddingForRecipeTest = np.linalg.norm(embeddingForRecipeTest)\n",
    "    norm_embedding = np.linalg.norm(all_embeddings[i])\n",
    "\n",
    "    # Calculate the cosine similarity\n",
    "    cosine_similarity = dot_product / (norm_embeddingForRecipeTest * norm_embedding)\n",
    "\n",
    "    cosine_similarity_list.append((i, cosine_similarity))\n",
    "\n",
    "\n",
    "# Sort the list by the variable in descending order\n",
    "cosine_similarity_list.sort(key=lambda x: x[1], reverse=True)\n",
    "\n",
    "# Select the top 3 by ID\n",
    "top_3 = [x for x in cosine_similarity_list[:3]]\n",
    "\n",
    "\n",
    "\n",
    "\n"
   ]
  },
  {
   "cell_type": "code",
   "execution_count": null,
   "metadata": {},
   "outputs": [
    {
     "name": "stdout",
     "output_type": "stream",
     "text": [
      "[{'name': 'Moroccan Lentil Soup', 'ingredients': ['1 cup lentils', '1 cup chickpeas', '3 tomatoes', '1 onion', '1 celery stalk', '1/4 cup parsley', '1/4 cup cilantro', '1/4 cup lemon juice', '1/4 cup vermicelli noodles', '1 tablespoon olive oil', '1 teaspoon cumin', '1/2 teaspoon ginger', '1/4 teaspoon cinnamon', '1/4 teaspoon saffron', '1/2 teaspoon salt', '1/4 teaspoon black pepper'], 'instructions': ['1. In a large pot, combine the lentils, chickpeas, tomatoes, onion, celery, parsley, cilantro, lemon juice, vermicelli noodles, olive oil, cumin, ginger, cinnamon, saffron, salt, and black pepper.', '2. Add enough water to cover the ingredients.', '3. Bring to a boil over medium heat.', '4. Reduce the heat to low and simmer for 30 minutes.', '5. Serve hot.'], 'calories': ' Soup: 190 calories', 'date': \"Today's date: March 3, 2020\"}, {'recipe': {'name': 'Lamb Tagine with Chickpeas and Lentils', 'ingredients': ['1 lb lamb or beef', '1 onion', '3 cloves garlic', '1 celery stalk', '1 bunch parsley', '1 bunch cilantro', '1 inch ginger', '1 tsp cumin', '1 tsp paprika', '1/2 tsp turmeric', '3 tomatoes', '1 cup chickpeas', '1/2 cup lentils', '1/2 cup vermicelli noodles', 'juice of 1 lemon'], 'instructions': ['1. In a large pot or dutch oven, brown the meat in olive oil.', '2. Add the onion, garlic, celery, parsley, cilantro, ginger, cumin, paprika, and turmeric. Stir well.', '3. Add the tomatoes and enough water to cover the meat and vegetables.', '4. Bring to a boil, then reduce heat and simmer for 1-2 hours.', '5. Add the chickpeas, lentils, and vermicelli noodles. Simmer for another 20-30 minutes.', '6. Season with salt and pepper to taste. Add the lemon juice just before serving.'], 'calories': 500, 'date': '4/21/2020'}}, {'Name': 'Moroccan Lentil Soup', 'Ingredients': ['1 cup lentils', '1 carrot, diced', '1 turnip, diced', '1 zucchini, diced', '1 onion, diced', '1 clove garlic, minced', '1 cup chickpeas', '1 cup couscous', '1 teaspoon cinnamon', '1 teaspoon ginger', '1/4 teaspoon saffron', '1 teaspoon coriander', '1 tablespoon parsley', '2 tablespoons olive oil', 'salt and black pepper to taste'], 'Instructions': ['In a large pot, combine the lentils, carrot, turnip, zucchini, onion, garlic, chickpeas, couscous, cinnamon, ginger, saffron, coriander, parsley, and olive oil.', 'Add enough water to cover the ingredients.', 'Bring to a boil, reduce heat, and simmer for 30 minutes.', 'Season with salt and black pepper to taste.', 'Serve hot.'], 'Calories': '500', 'Date': '2020-04-13'}]\n"
     ]
    }
   ],
   "source": [
    "\n",
    "\n",
    "# Authenticate with OpenAI API\n",
    "\n",
    "\n",
    "\n",
    "# Define function to generate recipe suggestions\n",
    "def generate_recipe_suggestions(ingredients, diet):\n",
    "    if diet is not None:\n",
    "        prompt = f\"Generate a traditional Moroccan recipe using: {ingredients}. Be careful, The person has {diet}. For the response It should be a json object that contains, Name of the recipe, Ingredients, Instructions, Calories and the last one the date of today.\"\n",
    "    else:\n",
    "        prompt = f\"Generate a traditional Moroccan recipe using: {ingredients}. For the response It should be a json object that contains, Name of the recipe, Ingredients, Instructions, Calories and the last one the date of today.\"\n",
    "    response = openai.Completion.create(\n",
    "        engine=\"text-davinci-002\",\n",
    "        prompt=prompt,\n",
    "        max_tokens=1024,\n",
    "        n=1,\n",
    "        stop=None,\n",
    "        temperature=0.5,\n",
    "    )\n",
    "    recipe = json.loads(json.dumps(response))[\"choices\"][0][\"text\"]\n",
    "    return recipe\n",
    "\n",
    "\n",
    "\n",
    "diet = None\n",
    "\n",
    "# Generate recipe suggestions and filter to only include traditional Moroccan recipes\n",
    "recipe_suggestions = []\n",
    "for recipe in top_3:\n",
    "    generatedRecipe = generate_recipe_suggestions(myRecipesFromData[recipe[0]], diet)\n",
    "    recipe_suggestions.append(json.loads(generatedRecipe))\n",
    "    \n",
    "print(recipe_suggestions)"
   ]
  }
 ],
 "metadata": {
  "kernelspec": {
   "display_name": "Python 3.9.0 ('venv': venv)",
   "language": "python",
   "name": "python3"
  },
  "language_info": {
   "codemirror_mode": {
    "name": "ipython",
    "version": 3
   },
   "file_extension": ".py",
   "mimetype": "text/x-python",
   "name": "python",
   "nbconvert_exporter": "python",
   "pygments_lexer": "ipython3",
   "version": "3.9.0"
  },
  "orig_nbformat": 4,
  "vscode": {
   "interpreter": {
    "hash": "327a14c51bf084a1ece96b9f8752416138d73bb178b7a92172a543a9005579c1"
   }
  }
 },
 "nbformat": 4,
 "nbformat_minor": 2
}
