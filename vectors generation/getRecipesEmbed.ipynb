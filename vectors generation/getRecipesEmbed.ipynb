{
 "cells": [
  {
   "cell_type": "code",
   "execution_count": 7,
   "metadata": {},
   "outputs": [],
   "source": [
    "import cohere\n",
    "import os\n",
    "import numpy as np\n",
    "import math\n",
    "import pickle\n",
    "\n",
    "\n",
    "# import openai_secret_manager\n",
    "import openai\n",
    "import re\n",
    "import json\n",
    "from dotenv import load_dotenv\n",
    "\n",
    "load_dotenv()\n",
    "key = os.getenv('cohere_key')\n",
    "co = cohere.Client(key)\n",
    "openai.api_key =  os.getenv('openai_key')\n"
   ]
  },
  {
   "cell_type": "code",
   "execution_count": 8,
   "metadata": {},
   "outputs": [],
   "source": [
    "file = open(\"C:\\\\Users\\\\bouta\\\\OneDrive\\\\Bureau\\\\hackathons\\\\test\\\\data\\\\data.txt\", \"r\")\n",
    "\n",
    "texts = []\n",
    "for line in file:\n",
    "    texts.append(line.split(\":\")[1])\n",
    "\n",
    "myRecipesFromData = texts"
   ]
  },
  {
   "cell_type": "code",
   "execution_count": 9,
   "metadata": {},
   "outputs": [],
   "source": [
    "response = co.embed(\n",
    "    texts=texts,\n",
    "    model='small',\n",
    ")\n",
    "embeddings=response.embeddings\n",
    "all_embeddings = np.array(embeddings)\n",
    "np.save('embeddings.npy', all_embeddings)\n"
   ]
  },
  {
   "cell_type": "code",
   "execution_count": 10,
   "metadata": {},
   "outputs": [
    {
     "name": "stdout",
     "output_type": "stream",
     "text": [
      "Top 3 IDs: [(3, array([0.93595866])), (51, array([0.9127999])), (7, array([0.88192896]))]\n"
     ]
    }
   ],
   "source": [
    "\"\"\" let's test here first \"\"\"\n",
    "\n",
    "\n",
    "response = co.embed(\n",
    "    texts=[\"ginger, Lentils, tomatoes, onions, parsley, cilantro, vermicelli noodles, ginger, saffron, black pepper.\"],\n",
    "    model='small',\n",
    ")\n",
    "embeddingForRecipeTest=response.embeddings\n",
    "\n",
    "cosine_similarity_list = []\n",
    "all_embeddings = np.load('embeddings.npy')\n",
    "for i in range(len(all_embeddings)):\n",
    "    # Calculate the dot product of the two arrays\n",
    "    dot_product = np.dot(embeddingForRecipeTest, all_embeddings[i])\n",
    "\n",
    "    # Calculate the norm of the two arrays\n",
    "    norm_embeddingForRecipeTest = np.linalg.norm(embeddingForRecipeTest)\n",
    "    norm_embedding = np.linalg.norm(all_embeddings[i])\n",
    "\n",
    "    # Calculate the cosine similarity\n",
    "    cosine_similarity = dot_product / (norm_embeddingForRecipeTest * norm_embedding)\n",
    "\n",
    "    cosine_similarity_list.append((i, cosine_similarity))\n",
    "\n",
    "\n",
    "# Sort the list by the variable in descending order\n",
    "cosine_similarity_list.sort(key=lambda x: x[1], reverse=True)\n",
    "\n",
    "# Select the top 3 by ID\n",
    "top_3 = [x for x in cosine_similarity_list[:3]]\n",
    "print(\"Top 3 IDs:\", top_3)\n",
    "\n",
    "# for recipe in top_3:\n",
    "#     print(recipe[1], myRecipesFromData[recipe[0]])\n",
    "\n"
   ]
  },
  {
   "cell_type": "code",
   "execution_count": 11,
   "metadata": {},
   "outputs": [
    {
     "name": "stdout",
     "output_type": "stream",
     "text": [
      "[{'recipe': {'name': 'Moroccan Lentil Soup', 'ingredients': ['1 cup lentils', '1 cup chickpeas', '3 tomatoes', '1 onion', '1 celery', '1 parsley', '1 cilantro', '1 lemon juice', '1 vermicelli noodles', '1 olive oil', '1 cumin', '1 ginger', '1 cinnamon', '1 saffron', '1 salt', '1 black pepper'], 'instructions': 'Soak the lentils and chickpeas overnight. In a large pot, sauté the onions, celery, and garlic in olive oil until softened. Add the tomatoes and cook until they begin to break down. Add the lentils, chickpeas, and enough water to cover the ingredients. Bring to a boil and simmer for 30 minutes. Add the vermicelli noodles and cook for an additional 10 minutes. Season with salt, pepper, cumin, ginger, cinnamon, and saffron. Stir in the lemon juice and cilantro just before serving.', 'calories': '500', 'date': '4/21/2020'}}, {'Name': 'Traditional Moroccan Recipe', 'Ingredients': ['1 lb. lamb or beef', '1 onion', '4 cloves garlic', '1 celery stalk', '1/4 cup parsley', '1/4 cup cilantro', '1 tsp. ginger', '1 tsp. cumin', '1 tsp. paprika', '1/2 tsp. turmeric', '3 tomatoes', '1 can chickpeas', '1/4 cup lentils', '1/4 cup vermicelli noodles', '1/4 cup lemon juice'], 'Instructions': 'In a large pot, combine the lamb or beef, onion, garlic, celery, parsley, cilantro, ginger, cumin, paprika, turmeric, tomatoes, chickpeas, lentils, vermicelli noodles, and lemon juice. Cover and simmer for 1-2 hours, or until the meat is tender. Serve over rice or couscous.', 'Calories': 500, 'Date': '8/13/2020'}, {'Name of Recipe': 'Moroccan Lentil Stew', 'Ingredients': ['1 cup green or brown lentils', '3 carrots, diced', '2 turnips, diced', '1 zucchini, diced', '1 onion, diced', '3 cloves garlic, minced', '1 cup chickpeas, cooked', '1 cup couscous', '1 teaspoon cinnamon', '1 teaspoon ginger', '1/4 teaspoon saffron', '1 teaspoon coriander', '1 tablespoon parsley, chopped', '1/4 cup olive oil', 'salt and black pepper to taste'], 'Instructions': ['In a large pot, combine the lentils, carrots, turnips, zucchini, onion, garlic, chickpeas, couscous, cinnamon, ginger, saffron, coriander, parsley, and olive oil.', 'Add enough water to cover the ingredients.', 'Bring to a boil, reduce heat to low, and simmer for 30 minutes.', 'Season with salt and black pepper to taste.', 'Serve hot.'], 'Calories': '500', 'Date': '4/21/2020'}]\n"
     ]
    }
   ],
   "source": [
    "\n",
    "\n",
    "# Authenticate with OpenAI API\n",
    "\n",
    "\n",
    "\n",
    "# Define function to generate recipe suggestions\n",
    "def generate_recipe_suggestions(ingredients, diet):\n",
    "    if diet is not None:\n",
    "        prompt = f\"Generate a traditional Moroccan recipe using: {ingredients}. Be careful, The person has {diet}. For the response It should be a json object that contains, Name of the recipe, Ingredients, Instructions, Calories and the last one the date of today.\"\n",
    "    else:\n",
    "        prompt = f\"Generate a traditional Moroccan recipe using: {ingredients}. For the response It should be a json object that contains, Name of the recipe, Ingredients, Instructions, Calories and the last one the date of today.\"\n",
    "    response = openai.Completion.create(\n",
    "        engine=\"text-davinci-002\",\n",
    "        prompt=prompt,\n",
    "        max_tokens=1024,\n",
    "        n=1,\n",
    "        stop=None,\n",
    "        temperature=0.5,\n",
    "    )\n",
    "    recipe = json.loads(json.dumps(response))[\"choices\"][0][\"text\"]\n",
    "    return recipe\n",
    "\n",
    "\n",
    "\n",
    "diet = None\n",
    "\n",
    "# Generate recipe suggestions and filter to only include traditional Moroccan recipes\n",
    "recipe_suggestions = []\n",
    "for recipe in top_3:\n",
    "    generatedRecipe = generate_recipe_suggestions(myRecipesFromData[recipe[0]], diet)\n",
    "    recipe_suggestions.append(json.loads(generatedRecipe))\n",
    "    \n",
    "print(recipe_suggestions)"
   ]
  }
 ],
 "metadata": {
  "kernelspec": {
   "display_name": "Python 3.9.0 ('venv': venv)",
   "language": "python",
   "name": "python3"
  },
  "language_info": {
   "codemirror_mode": {
    "name": "ipython",
    "version": 3
   },
   "file_extension": ".py",
   "mimetype": "text/x-python",
   "name": "python",
   "nbconvert_exporter": "python",
   "pygments_lexer": "ipython3",
   "version": "3.9.0"
  },
  "orig_nbformat": 4,
  "vscode": {
   "interpreter": {
    "hash": "327a14c51bf084a1ece96b9f8752416138d73bb178b7a92172a543a9005579c1"
   }
  }
 },
 "nbformat": 4,
 "nbformat_minor": 2
}
